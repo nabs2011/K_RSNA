{
 "cells": [
  {
   "cell_type": "markdown",
   "metadata": {},
   "source": [
    "# Algorithms Research"
   ]
  },
  {
   "cell_type": "markdown",
   "metadata": {},
   "source": [
    "Algorithms to consider:\n",
    "\n",
    "* RCNN\n",
    "* Fast-RCNN\n",
    "* Faster-RCNN\n",
    "* Mask-RCNN\n",
    "* YOLO"
   ]
  },
  {
   "cell_type": "markdown",
   "metadata": {},
   "source": [
    "# Fundamentals of image recognition using deep learning"
   ]
  },
  {
   "cell_type": "markdown",
   "metadata": {},
   "source": [
    "# Object detection using deep learning"
   ]
  },
  {
   "cell_type": "markdown",
   "metadata": {},
   "source": [
    "# Algorithms"
   ]
  },
  {
   "cell_type": "markdown",
   "metadata": {},
   "source": [
    "## RCNN"
   ]
  },
  {
   "cell_type": "markdown",
   "metadata": {},
   "source": [
    "## Fast-RCNN"
   ]
  },
  {
   "cell_type": "markdown",
   "metadata": {},
   "source": [
    "## Faster-RCNN"
   ]
  },
  {
   "cell_type": "markdown",
   "metadata": {},
   "source": [
    "## Mask-RCNN"
   ]
  },
  {
   "cell_type": "markdown",
   "metadata": {},
   "source": [
    "## YOLO"
   ]
  },
  {
   "cell_type": "markdown",
   "metadata": {},
   "source": [
    "https://github.com/experiencor/keras-yolo2/blob/master/Yolo%20Step-by-Step.ipynb"
   ]
  },
  {
   "cell_type": "code",
   "execution_count": 1,
   "metadata": {},
   "outputs": [
    {
     "name": "stderr",
     "output_type": "stream",
     "text": [
      "C:\\Users\\eustin\\Anaconda3\\lib\\site-packages\\h5py\\__init__.py:34: FutureWarning: Conversion of the second argument of issubdtype from `float` to `np.floating` is deprecated. In future, it will be treated as `np.float64 == np.dtype(float).type`.\n",
      "  from ._conv import register_converters as _register_converters\n",
      "Using TensorFlow backend.\n"
     ]
    }
   ],
   "source": [
    "from keras.models import Sequential"
   ]
  },
  {
   "cell_type": "code",
   "execution_count": 2,
   "metadata": {},
   "outputs": [
    {
     "name": "stdout",
     "output_type": "stream",
     "text": [
      "Requirement already satisfied: pydicom in c:\\users\\eustin\\anaconda3\\lib\\site-packages (1.1.0)\n",
      "Requirement already satisfied: tqdm in c:\\users\\eustin\\anaconda3\\lib\\site-packages (4.26.0)\n",
      "Requirement already satisfied: imgaug in c:\\users\\eustin\\anaconda3\\lib\\site-packages (0.2.6)\n",
      "Requirement already satisfied: six in c:\\users\\eustin\\anaconda3\\lib\\site-packages (from imgaug) (1.11.0)\n",
      "Requirement already satisfied: scikit-image>=0.11.0 in c:\\users\\eustin\\anaconda3\\lib\\site-packages (from imgaug) (0.13.0)\n",
      "Requirement already satisfied: scipy in c:\\users\\eustin\\anaconda3\\lib\\site-packages (from imgaug) (0.19.1)\n",
      "Requirement already satisfied: numpy>=1.7.0 in c:\\users\\eustin\\anaconda3\\lib\\site-packages (from imgaug) (1.15.2)\n",
      "Requirement already satisfied: matplotlib>=1.3.1 in c:\\users\\eustin\\anaconda3\\lib\\site-packages (from scikit-image>=0.11.0->imgaug) (2.1.0)\n",
      "Requirement already satisfied: networkx>=1.8 in c:\\users\\eustin\\anaconda3\\lib\\site-packages (from scikit-image>=0.11.0->imgaug) (2.0)\n",
      "Requirement already satisfied: pillow>=2.1.0 in c:\\users\\eustin\\anaconda3\\lib\\site-packages (from scikit-image>=0.11.0->imgaug) (4.2.1)\n",
      "Requirement already satisfied: PyWavelets>=0.4.0 in c:\\users\\eustin\\anaconda3\\lib\\site-packages (from scikit-image>=0.11.0->imgaug) (0.5.2)\n",
      "Requirement already satisfied: python-dateutil>=2.0 in c:\\users\\eustin\\anaconda3\\lib\\site-packages (from matplotlib>=1.3.1->scikit-image>=0.11.0->imgaug) (2.6.1)\n",
      "Requirement already satisfied: pytz in c:\\users\\eustin\\anaconda3\\lib\\site-packages (from matplotlib>=1.3.1->scikit-image>=0.11.0->imgaug) (2017.2)\n",
      "Requirement already satisfied: cycler>=0.10 in c:\\users\\eustin\\anaconda3\\lib\\site-packages (from matplotlib>=1.3.1->scikit-image>=0.11.0->imgaug) (0.10.0)\n",
      "Requirement already satisfied: pyparsing!=2.0.4,!=2.1.2,!=2.1.6,>=2.0.1 in c:\\users\\eustin\\anaconda3\\lib\\site-packages (from matplotlib>=1.3.1->scikit-image>=0.11.0->imgaug) (2.2.0)\n",
      "Requirement already satisfied: decorator>=4.1.0 in c:\\users\\eustin\\anaconda3\\lib\\site-packages (from networkx>=1.8->scikit-image>=0.11.0->imgaug) (4.1.2)\n",
      "Requirement already satisfied: olefile in c:\\users\\eustin\\anaconda3\\lib\\site-packages (from pillow>=2.1.0->scikit-image>=0.11.0->imgaug) (0.44)\n",
      "Requirement already satisfied: opencv-python in c:\\users\\eustin\\anaconda3\\lib\\site-packages (3.4.3.18)\n",
      "Requirement already satisfied: numpy>=1.11.3 in c:\\users\\eustin\\anaconda3\\lib\\site-packages (from opencv-python) (1.15.2)\n"
     ]
    }
   ],
   "source": [
    "#!pip3 install pydicom \n",
    "#!pip3 install tqdm \n",
    "#!pip3 install imgaug\n",
    "#!pip3 install opencv-python \n",
    "#!pip3 install -q kaggle"
   ]
  },
  {
   "cell_type": "code",
   "execution_count": 3,
   "metadata": {
    "collapsed": true
   },
   "outputs": [],
   "source": [
    "import os \n",
    "import sys\n",
    "\n",
    "import random\n",
    "import math\n",
    "import numpy as np\n",
    "import cv2\n",
    "import matplotlib.pyplot as plt\n",
    "import json\n",
    "import pydicom\n",
    "from imgaug import augmenters as iaa\n",
    "from tqdm import tqdm\n",
    "import pandas as pd \n",
    "import glob"
   ]
  },
  {
   "cell_type": "code",
   "execution_count": 16,
   "metadata": {},
   "outputs": [
    {
     "name": "stderr",
     "output_type": "stream",
     "text": [
      "WARNING:root:Fail load requirements file, so using default ones.\n",
      "zip_safe flag not set; analyzing archive contents...\n"
     ]
    }
   ],
   "source": [
    "os.chdir(ROOT_DIR)\n",
    "#!git clone https://github.com/matterport/Mask_RCNN.git\n",
    "os.chdir('Mask_RCNN')\n",
    "#!pip install -r requirements.txt\n",
    "!python setup.py -q install"
   ]
  },
  {
   "cell_type": "code",
   "execution_count": null,
   "metadata": {
    "collapsed": true
   },
   "outputs": [],
   "source": []
  }
 ],
 "metadata": {
  "kernelspec": {
   "display_name": "Python 3",
   "language": "python",
   "name": "python3"
  },
  "language_info": {
   "codemirror_mode": {
    "name": "ipython",
    "version": 3
   },
   "file_extension": ".py",
   "mimetype": "text/x-python",
   "name": "python",
   "nbconvert_exporter": "python",
   "pygments_lexer": "ipython3",
   "version": "3.6.5"
  }
 },
 "nbformat": 4,
 "nbformat_minor": 2
}
